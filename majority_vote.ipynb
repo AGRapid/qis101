{
 "cells": [
  {
   "cell_type": "code",
   "execution_count": 4,
   "id": "89f460e8-a27a-498b-a3ee-ae5b899a4d68",
   "metadata": {},
   "outputs": [
    {
     "data": {
      "text/latex": [
       "$\\displaystyle \\large\\mathbf{F}=0=\\begin{bmatrix}1\\\\[1em]0\\\\\\end{bmatrix}$"
      ],
      "text/plain": [
       "<IPython.core.display.Math object>"
      ]
     },
     "metadata": {},
     "output_type": "display_data"
    },
    {
     "data": {
      "text/latex": [
       "$\\displaystyle \\large\\mathbf{T}=1=\\begin{bmatrix}0\\\\[1em]1\\\\\\end{bmatrix}$"
      ],
      "text/plain": [
       "<IPython.core.display.Math object>"
      ]
     },
     "metadata": {},
     "output_type": "display_data"
    },
    {
     "data": {
      "text/latex": [
       "$\\displaystyle \\large\\mathbf{AND}=\\begin{bmatrix}1 &1 &1 &0\\\\[1em]0 &0 &0 &1\\\\\\end{bmatrix}$"
      ],
      "text/plain": [
       "<IPython.core.display.Math object>"
      ]
     },
     "metadata": {},
     "output_type": "display_data"
    },
    {
     "data": {
      "text/latex": [
       "$\\displaystyle \\large\\mathbf{OR}=\\begin{bmatrix}1 &0 &0 &0\\\\[1em]0 &1 &1 &1\\\\\\end{bmatrix}$"
      ],
      "text/plain": [
       "<IPython.core.display.Math object>"
      ]
     },
     "metadata": {},
     "output_type": "display_data"
    }
   ],
   "source": [
    "\"\"\" majority_vote.ipynb \"\"\"\n",
    "\n",
    "# Cell 1\n",
    "# Majority Vote requires 3 AND Gates and 3 OR Gates. Inputting gates and logic states.\n",
    "\n",
    "# Importing Necessary Modules\n",
    "from __future__ import annotations\n",
    "\n",
    "import typing\n",
    "\n",
    "import numpy as np\n",
    "from IPython.core.display import Math\n",
    "from qis101_utils import as_latex\n",
    "\n",
    "if typing.TYPE_CHECKING:\n",
    "    from numpy.typing import NDArray\n",
    "\n",
    "\n",
    "# Defining Boolean Logic States in vector form\n",
    "f: NDArray[np.complex_] = np.array([[1], [0]])\n",
    "t: NDArray[np.complex_] = np.array([[0], [1]])\n",
    "\n",
    "# AND Gates and OR Gates defined as matrices\n",
    "g_and: NDArray[np.complex_] = np.array([[1, 1, 1, 0], [0, 0, 0, 1]])\n",
    "g_or: NDArray[np.complex_] = np.array([[1, 0, 0, 0], [0, 1, 1, 1]])\n",
    "\n",
    "# Displaying in Latex\n",
    "display(as_latex(f, prefix=r\"\\mathbf{F}=0=\"))\n",
    "display(as_latex(t, prefix=r\"\\mathbf{T}=1=\"))\n",
    "\n",
    "display(as_latex(g_and, prefix=r\"\\mathbf{AND}=\"))\n",
    "display(as_latex(g_or, prefix=r\"\\mathbf{OR}=\"))"
   ]
  },
  {
   "cell_type": "code",
   "execution_count": 6,
   "id": "e4ba4956-17a4-4976-9a92-31804658a182",
   "metadata": {},
   "outputs": [
    {
     "name": "stdout",
     "output_type": "stream",
     "text": [
      "a: [1 0]  b: [1 0]  c: [1 0]  v: [1 0]\n",
      "a: [1 0]  b: [1 0]  c: [0 1]  v: [1 0]\n",
      "a: [1 0]  b: [0 1]  c: [1 0]  v: [1 0]\n",
      "a: [1 0]  b: [0 1]  c: [0 1]  v: [0 1]\n",
      "a: [0 1]  b: [1 0]  c: [1 0]  v: [1 0]\n",
      "a: [0 1]  b: [1 0]  c: [0 1]  v: [0 1]\n",
      "a: [0 1]  b: [0 1]  c: [1 0]  v: [0 1]\n",
      "a: [0 1]  b: [0 1]  c: [0 1]  v: [0 1]\n"
     ]
    }
   ],
   "source": [
    "# Cell 2\n",
    "\n",
    "# Generating Truth Table for majority vote circuit\n",
    "\n",
    "def circuit( \n",
    "    a: NDArray[np.complex_],\n",
    "    b: NDArray[np.complex_],\n",
    "    c: NDArray[np.complex_],\n",
    ") -> NDArray[np.complex_]:\n",
    "    \"\"\" This function will define the circuit and obtain the output of the circuit \"\"\"\n",
    "    # a, b, and c are passed through AND gates\n",
    "    g1: NDArray[np.complex_] = np.dot(g_and, np.kron(a, c))\n",
    "    g2: NDArray[np.complex_] = np.dot(g_and, np.kron(a, b))\n",
    "    g3: NDArray[np.complex_] = np.dot(g_and, np.kron(b, c))\n",
    "\n",
    "    # Outputs of gates AND Gates are passed through OR Gates\n",
    "    g4: NDArray[np.complex_] = np.dot(g_or, np.kron(g1, g2))\n",
    "    g5: NDArray[np.complex_] = np.dot(g_or, np.kron(g2, g3))\n",
    "\n",
    "    @ Output of OR Gates are passed through final OR gates\n",
    "    g6: NDArray[np.complex_] = np.dot(g_or, np.kron(g4, g5))\n",
    "\n",
    "    return g6\n",
    "\n",
    "for a in [f, t]:\n",
    "    for b in [f, t]:\n",
    "        for c in [f, t]:\n",
    "            # we use commas [,] for vectors. [][] will give us the scalar value at [row][element]\n",
    "            print(f\"a: [{a[0][0]} {a[1][0]}]\", end=\"  \")\n",
    "            print(f\"b: [{b[0][0]} {b[1][0]}]\", end=\"  \")\n",
    "            print(f\"c: [{c[0][0]} {c[1][0]}]\", end=\"  \")\n",
    "            # Calling function circuit to produce results\n",
    "            v: NDArray[np.complex_] = circuit(a, b, c)\n",
    "            print(f\"v: [{v[0][0]} {v[1][0]}]\")"
   ]
  },
  {
   "cell_type": "code",
   "execution_count": null,
   "id": "cef20b46-ed88-4f7c-a069-8e1d996ad1db",
   "metadata": {},
   "outputs": [],
   "source": []
  }
 ],
 "metadata": {
  "kernelspec": {
   "display_name": "Python 3 (ipykernel)",
   "language": "python",
   "name": "python3"
  },
  "language_info": {
   "codemirror_mode": {
    "name": "ipython",
    "version": 3
   },
   "file_extension": ".py",
   "mimetype": "text/x-python",
   "name": "python",
   "nbconvert_exporter": "python",
   "pygments_lexer": "ipython3",
   "version": "3.9.16"
  }
 },
 "nbformat": 4,
 "nbformat_minor": 5
}
