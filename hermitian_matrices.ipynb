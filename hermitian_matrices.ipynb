{
 "cells": [
  {
   "cell_type": "markdown",
   "id": "b418e766-3f38-4e08-917a-127f17990746",
   "metadata": {},
   "source": [
    "PROOF: The inverse of a Hermitian matrix is also Hermitian"
   ]
  },
  {
   "cell_type": "code",
   "execution_count": 33,
   "id": "a114f0a9-a0bf-4004-ba16-c135403f320e",
   "metadata": {
    "tags": []
   },
   "outputs": [
    {
     "data": {
      "text/latex": [
       "$\\displaystyle \\mathbf{A = A^\\dagger}=\\begin{bmatrix}5 &4 + 5i &6-16i\\\\4-5i &13 &7\\\\6 + 16i &7 &2.1\\\\\\end{bmatrix}$"
      ],
      "text/plain": [
       "<IPython.core.display.Math object>"
      ]
     },
     "metadata": {},
     "output_type": "display_data"
    },
    {
     "data": {
      "text/latex": [
       "$\\displaystyle \\mathbf{A^{-1}}=\\begin{bmatrix}0.00454 &-0.00704 + 0.02566i &0.01047-0.05089i\\\\-0.00704-0.02566i &0.05896 &0.01906 + 0.01969i\\\\0.01047 + 0.05089i &0.01906-0.01969i &-0.00503\\\\\\end{bmatrix}$"
      ],
      "text/plain": [
       "<IPython.core.display.Math object>"
      ]
     },
     "metadata": {},
     "output_type": "display_data"
    },
    {
     "data": {
      "text/latex": [
       "$\\displaystyle \\mathbf{(A^{-1})^\\dagger = (A^\\dagger)^{-1} = A^{-1}}\\;?\\;\\rightarrow\\;True$"
      ],
      "text/plain": [
       "<IPython.core.display.Math object>"
      ]
     },
     "metadata": {},
     "output_type": "display_data"
    }
   ],
   "source": [
    "\"\"\"hermitian_matrices.ipynb\"\"\"\n",
    "\n",
    "# Cell 1 - The inverse of a Hermitian matrix is also Hermitian\n",
    "\n",
    "from __future__ import annotations\n",
    "\n",
    "import typing\n",
    "\n",
    "import numpy as np\n",
    "from IPython.core.display import Math\n",
    "\n",
    "if typing.TYPE_CHECKING:\n",
    "    from numpy.typing import NDArray\n",
    "    from numpy.linalg import matrix_power\n",
    "\n",
    "\n",
    "def display_array(\n",
    "    a: NDArray[np.complex_], places: int = 5, column: bool = False, prefix: str = \"\"\n",
    ") -> None:\n",
    "    def strip(val: float) -> str:\n",
    "        frmt: str = \":.\" + str(places) + \"f\"\n",
    "        d: str = str(\"{v\" + frmt + \"}\").format(v=val)\n",
    "        while d[-1] == \"0\":\n",
    "            d = d[:-1]\n",
    "        if d[-1] == \".\":\n",
    "            d = d[:-1]\n",
    "        if float(d) == 0:\n",
    "            d = \"0\"\n",
    "        return d\n",
    "\n",
    "    m: NDArray[np.complex_] = np.copy(a)\n",
    "    if len(m.shape) == 1:\n",
    "        m = m[np.newaxis, :]\n",
    "        if column:\n",
    "            m = m.T\n",
    "    prec: float = 1 / 10**places\n",
    "    s: str = r\"\\begin{bmatrix}\"\n",
    "    for row in range(m.shape[0]):\n",
    "        for col in range(m.shape[1]):\n",
    "            v: np.complex_ = m[row, col]\n",
    "            real_comp: float = float(np.real(v))\n",
    "            imag_comp: float = float(np.imag(v))\n",
    "            is_imag_neg: bool = imag_comp < 0\n",
    "            is_real_zero: bool = bool(np.isclose(real_comp, 0, atol=prec))\n",
    "            is_imag_zero: bool = bool(np.isclose(imag_comp, 0, atol=prec))\n",
    "            is_imag_one: bool = bool(np.isclose(abs(imag_comp), 1, atol=prec))\n",
    "            if is_real_zero:\n",
    "                if is_imag_zero:\n",
    "                    s += \"0\"\n",
    "            else:\n",
    "                s += strip(real_comp)\n",
    "            if not is_imag_zero:\n",
    "                if is_imag_one:\n",
    "                    if is_imag_neg:\n",
    "                        s += r\"-i\"\n",
    "                    else:\n",
    "                        if not is_real_zero:\n",
    "                            s += \"+\"\n",
    "                        s += r\"i\"\n",
    "                else:\n",
    "                    if not is_real_zero and not is_imag_neg:\n",
    "                        s += \" + \"\n",
    "                    s += strip(imag_comp) + \"i\"\n",
    "            if col < m.shape[1] - 1:\n",
    "                s += \" &\"\n",
    "        s += r\"\\\\\"\n",
    "    s += r\"\\end{bmatrix}\"\n",
    "    display(Math(prefix + s))\n",
    "\n",
    "# TODO\n",
    "\n",
    "# need a dummy Hermitian matrix to prove The inverse of a Hermitian matrix is also Hermitian\n",
    "# pulled this matrix from the PowerPoint slides Session 14a, pg.63 which is already Hermitian\n",
    "\n",
    "a: NDArray[np.complex_] = np.array(\n",
    "    [\n",
    "        [5, 4+5j, 6-16j], \n",
    "        [4-5j, 13,7], \n",
    "        [6+16j, 7, 2.1]\n",
    "    ]\n",
    ")\n",
    "\n",
    "# Again, the array is Hermitian and displaying it as such\n",
    "display_array(a, prefix=r\"\\mathbf{A = A^\\dagger}=\")\n",
    "\n",
    "# Math has a function that allows the inverse to be taken of a matrix\n",
    "inverse_a = np.linalg.inv(a)\n",
    "\n",
    "# displaying inverse of hermitian matrix\n",
    "display_array(inverse_a, prefix=r\"\\mathbf{A^{-1}}=\")\n",
    "\n",
    "# now need to test if the inverse is Hermitian \n",
    "\n",
    "t1 = inverse_a.conj().T\n",
    "\n",
    "# t2 should simply return to inverse_a. If it does return, it is hermitian \n",
    "t2 = t1.conj().T\n",
    "\n",
    "display(\n",
    "    Math(\n",
    "        (\n",
    "            rf\"\\mathbf{{(A^{{-1}})^\\dagger = (A^\\dagger)^{{-1}} = A^{{-1}}}}\"\n",
    "            rf\"\\;?\\;\\rightarrow\\;{np.isclose(t1,t2).all()}\"\n",
    "        )\n",
    "    )\n",
    ")\n"
   ]
  },
  {
   "cell_type": "markdown",
   "id": "e82bcff2-bba1-429c-9f8b-b2f633cbfd5d",
   "metadata": {},
   "source": [
    "PROOF BELOW: A Hermitian matrix raised to an integer exponent yields another Hermitian matrix"
   ]
  },
  {
   "cell_type": "code",
   "execution_count": 39,
   "id": "ccf20f1b-fb7f-4246-b58c-dd7a01965f03",
   "metadata": {
    "tags": []
   },
   "outputs": [
    {
     "data": {
      "text/latex": [
       "$\\displaystyle \\mathbf{A = A^\\dagger}=\\begin{bmatrix}5 &4 + 5i &6-16i\\\\4-5i &13 &7\\\\6 + 16i &7 &2.1\\\\\\end{bmatrix}$"
      ],
      "text/plain": [
       "<IPython.core.display.Math object>"
      ]
     },
     "metadata": {},
     "output_type": "display_data"
    },
    {
     "data": {
      "text/latex": [
       "$\\displaystyle \\mathbf{A^{n} = (A^{n})^\\dagger}\\;?\\;\\rightarrow\\;True$"
      ],
      "text/plain": [
       "<IPython.core.display.Math object>"
      ]
     },
     "metadata": {},
     "output_type": "display_data"
    }
   ],
   "source": [
    "# Cell 2 - A Hermitian matrix raised to an integer\n",
    "#          exponent yields another Hermitian matrix\n",
    "\n",
    "# TODO: \n",
    "\n",
    "# Again, will be using the dummy Hermitian matrix from before\n",
    "\n",
    "display_array(a, prefix=r\"\\mathbf{A = A^\\dagger}=\")\n",
    "\n",
    "# need to raise the hermitian matrix to an exponent\n",
    "# numpy has a function to raise a square matrix to an exponent\n",
    "# here, I input the matrix A and raise it to the third power\n",
    "exponent_a = np.linalg.matrix_power(a,3)\n",
    "\n",
    "# need to test if yields a hermitian by taking the cojugate transpose \"exponent_a\"\n",
    "\n",
    "t3 = exponent_a.conj().T\n",
    "\n",
    "# t2 should simply return to exponent_a. If it does return, it is hermitian \n",
    "t4 = t3.conj().T\n",
    "\n",
    "display(\n",
    "    Math(\n",
    "        (\n",
    "            rf\"\\mathbf{{A^{{n}} = (A^{{n}})^\\dagger}}\"\n",
    "            rf\"\\;?\\;\\rightarrow\\;{np.isclose(t3,t4).all()}\"\n",
    "        )\n",
    "    )\n",
    ")"
   ]
  },
  {
   "cell_type": "code",
   "execution_count": null,
   "id": "f58f9456-b580-4a29-98cd-e9341ee65f8d",
   "metadata": {},
   "outputs": [],
   "source": []
  }
 ],
 "metadata": {
  "kernelspec": {
   "display_name": "Python 3 (ipykernel)",
   "language": "python",
   "name": "python3"
  },
  "language_info": {
   "codemirror_mode": {
    "name": "ipython",
    "version": 3
   },
   "file_extension": ".py",
   "mimetype": "text/x-python",
   "name": "python",
   "nbconvert_exporter": "python",
   "pygments_lexer": "ipython3",
   "version": "3.9.16"
  }
 },
 "nbformat": 4,
 "nbformat_minor": 5
}
