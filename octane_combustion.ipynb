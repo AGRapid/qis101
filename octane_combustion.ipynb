{
 "cells": [
  {
   "cell_type": "code",
   "execution_count": 18,
   "id": "87aa09a0-ecfe-4114-a0eb-42137c22e7de",
   "metadata": {},
   "outputs": [
    {
     "name": "stdout",
     "output_type": "stream",
     "text": [
      "Optimal\n",
      "x0 = 2\n",
      "x1 = 25\n",
      "x2 = 16\n",
      "x3 = 18\n"
     ]
    }
   ],
   "source": [
    "\"\"\"octane_combustion.ipynb\"\"\"\n",
    "\n",
    "# Cell 1\n",
    "\n",
    "import pulp\n",
    "from sympy.printing import latex\n",
    "\n",
    "def init_prob(terms):\n",
    "    # The goal is to minimize total atom count (POAC)\n",
    "    # https://www.quantumstudy.com/chemistry/stoichiometry\n",
    "    prob = pulp.LpProblem(sense=pulp.LpMinimize)\n",
    "\n",
    "    # Create decision variables (terms in chemical equation, +1 if ionic)\n",
    "    # Each term coefficient must ultimately be an integer > 1\n",
    "    # Declaring 6 variables to hold the answer\n",
    "    x0, x1, x2, x3, x4, x5 = ((None),) * 6\n",
    "    if terms >= 4:\n",
    "        x0 = pulp.LpVariable(name=\"x0\", lowBound=1, cat=\"Integer\")\n",
    "        x1 = pulp.LpVariable(name=\"x1\", lowBound=1, cat=\"Integer\")\n",
    "        x2 = pulp.LpVariable(name=\"x2\", lowBound=1, cat=\"Integer\")\n",
    "        x3 = pulp.LpVariable(name=\"x3\", lowBound=1, cat=\"Integer\")\n",
    "    if terms >= 5:\n",
    "        x4 = pulp.LpVariable(name=\"x4\", lowBound=1, cat=\"Integer\")\n",
    "    if terms >= 6:\n",
    "        x5 = pulp.LpVariable(name=\"x5\", lowBound=1, cat=\"Integer\")\n",
    "\n",
    "    # Define objective function based upon number of terms\n",
    "    if terms == 4:\n",
    "        prob += x0 + x1 + x2 + x3\n",
    "        return prob, x0, x1, x2, x3\n",
    "    elif terms == 5:\n",
    "        prob += x0 + x1 + x2 + x3 + x4\n",
    "        return prob, x0, x1, x2, x3, x4\n",
    "    elif terms == 6:\n",
    "        prob += x0 + x1 + x2 + x3 + x4 + x5\n",
    "        return prob, x0, x1, x2, x3, x4, x5\n",
    "\n",
    "# solves and prints out the answer\n",
    "def solve_prob(prob, *x):\n",
    "    status = prob.solve()\n",
    "\n",
    "    # Display if solution found is optimal, feasible, or infeasible\n",
    "    print(pulp.LpStatus[status])\n",
    "\n",
    "    # Display the final value of the decision variables\n",
    "    if len(x[0]) >= 4:\n",
    "        print(f\"x0 = {int(pulp.value(x[0][0]))}\")\n",
    "        print(f\"x1 = {int(pulp.value(x[0][1]))}\")\n",
    "        print(f\"x2 = {int(pulp.value(x[0][2]))}\")\n",
    "        print(f\"x3 = {int(pulp.value(x[0][3]))}\")\n",
    "    if len(x[0]) >= 5:\n",
    "        print(f\"x4 = {int(pulp.value(x[0][4]))}\")\n",
    "    if len(x[0]) >= 6:\n",
    "        print(f\"x5 = {int(pulp.value(x[0][5]))}\")\n",
    "\n",
    "# We want to balance the Equation: C8H18+O2 -> CO2 + H2O\n",
    "# Octane Combustion\n",
    "\n",
    "# Need to create a list of constraints. 4 molecules, so 4 terms\n",
    "prob, *x = init_prob(terms=4)\n",
    "\n",
    "# Balancing Each Element\n",
    "prob += 8 * x[0] == x[2] # Carbon (C)\n",
    "prob += 18 * x[0] == 2 * x[3] # Hydrogen (H)\n",
    "prob += 2 * x[1] == 2 * x[2] + x[3] # Oxygen (O)\n",
    "# No ionic charges to balance.\n",
    "\n",
    "solve_prob(prob, x)\n",
    "\n"
   ]
  },
  {
   "cell_type": "code",
   "execution_count": 17,
   "id": "1683f8fb-0649-4f8b-9a09-f6152ec1d677",
   "metadata": {},
   "outputs": [
    {
     "data": {
      "text/plain": [
       "'2C_8H_{18} + 25O_2 \\\\rightarrow 16CO_2 + 18H_2O'"
      ]
     },
     "metadata": {},
     "output_type": "display_data"
    }
   ],
   "source": [
    "display(r\"2C_8H_{18} + 25O_2 \\rightarrow 16CO_2 + 18H_2O\")"
   ]
  },
  {
   "cell_type": "code",
   "execution_count": null,
   "id": "7a07c777-be0a-4892-91ce-472f03a4d57a",
   "metadata": {},
   "outputs": [],
   "source": []
  }
 ],
 "metadata": {
  "kernelspec": {
   "display_name": "Python 3 (ipykernel)",
   "language": "python",
   "name": "python3"
  },
  "language_info": {
   "codemirror_mode": {
    "name": "ipython",
    "version": 3
   },
   "file_extension": ".py",
   "mimetype": "text/x-python",
   "name": "python",
   "nbconvert_exporter": "python",
   "pygments_lexer": "ipython3",
   "version": "3.9.16"
  }
 },
 "nbformat": 4,
 "nbformat_minor": 5
}
