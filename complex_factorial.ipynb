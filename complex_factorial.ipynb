{
 "cells": [
  {
   "cell_type": "code",
   "execution_count": 9,
   "id": "e15aacee-90ad-46dc-9729-f6f77d5049dd",
   "metadata": {},
   "outputs": [
    {
     "name": "stdout",
     "output_type": "stream",
     "text": [
      "i!=0.4980-0.1549j\n"
     ]
    }
   ],
   "source": [
    "\"\"\"complex_factorial.ipynb\"\"\"\n",
    "\n",
    "# Cell 2\n",
    "\n",
    "import numpy as np\n",
    "from scipy.integrate import quad \n",
    "\n",
    "# n! = integral(t^n e^(-t)) dt\n",
    "\n",
    "def gamma_real(x: np.float_) -> np.float_: \n",
    "    \"\"\" This function defines the Real part of the gamma function \"\"\"\n",
    "    # using identity from hint and taking the Real of e^(ix)= cos(x) + i*sin(x)\n",
    "    return np.cos(np.log(x))*np.exp(-x)\n",
    "\n",
    "def gamma_imaginary(x: np.float_) -> np.float_:\n",
    "    \"\"\" This function defines the Imaginary part of the gamma function \"\"\"\n",
    "    # using identity from hint and taking the Imaginary of e^(ix)= cos(x) + i*sin(x)\n",
    "    return np.sin(np.log(x))*np.exp(-x)\n",
    "\n",
    "def main() -> None: \n",
    "    \"\"\" This function will integrate the previous gamma functions using scipy \"\"\"\n",
    "    # error is set to anonymous variable because irrelevant\n",
    "    integrate_real, _ = quad(gamma_real, 0, 1000)\n",
    "    integrate_imaginary, _ = quad(gamma_imaginary, 0, 1000)\n",
    "\n",
    "    # complex() gives the formatting for complex numbers\n",
    "    factorial = complex(integrate_real, integrate_imaginary)\n",
    "\n",
    "    # Printing result\n",
    "    print(f\"i!={factorial:.4f}\")  \n",
    "\n",
    "main()"
   ]
  }
 ],
 "metadata": {
  "kernelspec": {
   "display_name": "Python 3 (ipykernel)",
   "language": "python",
   "name": "python3"
  },
  "language_info": {
   "codemirror_mode": {
    "name": "ipython",
    "version": 3
   },
   "file_extension": ".py",
   "mimetype": "text/x-python",
   "name": "python",
   "nbconvert_exporter": "python",
   "pygments_lexer": "ipython3",
   "version": "3.9.16"
  }
 },
 "nbformat": 4,
 "nbformat_minor": 5
}
