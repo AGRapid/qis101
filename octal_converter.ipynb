{
 "cells": [
  {
   "cell_type": "code",
   "execution_count": 8,
   "id": "f7aaf9a7-200a-47e7-a4e3-580bc66825c7",
   "metadata": {},
   "outputs": [
    {
     "name": "stdout",
     "output_type": "stream",
     "text": [
      "2323 in octal = 1,235 in decimal\n"
     ]
    }
   ],
   "source": [
    "\"\"\" octal_convert.ipynb \"\"\"\n",
    "\n",
    "# Cell 1\n",
    "\n",
    "# Converting Octal to Decimal\n",
    "# For octal, the rightmost bit, 7, is the least significant bit, \n",
    "# and the leftmost bit, 1, is the most significant bit\n",
    "# https://en.wikipedia.org/wiki/Octal#Octal_to_decimal_conversion\n",
    "\n",
    "import numpy as np\n",
    "\n",
    "def octal_to_decimal(o: str) -> int:\n",
    "    \"\"\" This function will convert octal to decimal \n",
    "    while taking the string and returning an integer \"\"\" \n",
    "\n",
    "    # Reversing the string to go from least significant bit to most\n",
    "    o = o[::-1]\n",
    "    # Initializing the sum to be zero \n",
    "    sum = 0\n",
    "    # For loop to go through each index of the string\n",
    "    for position in range(len(o)):\n",
    "        # weight is in base 8, and must be raised to the index position of the string\n",
    "        weight: int = pow(8, position)\n",
    "        # The digit value will be the actual index value \n",
    "        digit = int(o[position])\n",
    "        # Summing all multiples of weights and digits\n",
    "        sum += digit * weight\n",
    "    return sum\n",
    "\n",
    "# Input octal \n",
    "o = \"2323\"\n",
    "# passing the octal through conversion function\n",
    "d: int = octal_to_decimal(o)\n",
    "# printing results\n",
    "print(f\"{o} in octal = {d:,} in decimal\")"
   ]
  },
  {
   "cell_type": "code",
   "execution_count": 16,
   "id": "4f9d6890-c9eb-498a-8d2f-70595deaa861",
   "metadata": {},
   "outputs": [
    {
     "name": "stdout",
     "output_type": "stream",
     "text": [
      "1,235 in decimal = 2323 in binary\n"
     ]
    }
   ],
   "source": [
    "# Cell 2\n",
    "\n",
    "# Converting Decimal to Octal\n",
    "\n",
    "def decimal_to_octal(d: int) -> str:\n",
    "    \"\"\" This function will convert decimal to octal \n",
    "    while taking the integer and returning a string \"\"\" \n",
    "    # Type setting the octal\n",
    "    o: str = \"\"\n",
    "    # while the decimal value is greater than 0, run the loop\n",
    "    while d > 0:\n",
    "        # Decimal's remainder obtained using base 8, converted, and accumulated \n",
    "        # into the octal string. This corresponds to the rightmost digit of the octal\n",
    "        o += str(d % 8)\n",
    "        # Decimal is divided by 8 to obtain its quotient\n",
    "        d = int(d / 8)\n",
    "        \n",
    "    # Octal string reversed to correct order. Placed outside of loop so it does not iterate \n",
    "    o = o[::-1]\n",
    "    return o\n",
    "    \n",
    "# Input Decimal \n",
    "d: int = 1_235\n",
    "# Passing Decimal through conversion function\n",
    "o: str = decimal_to_octal(d)\n",
    "# Printing Results\n",
    "print(f\"{d:,} in decimal = {o} in octal\")"
   ]
  },
  {
   "cell_type": "code",
   "execution_count": 20,
   "id": "e90ca256-e8b4-44f1-a88b-53bbb5e68598",
   "metadata": {},
   "outputs": [
    {
     "name": "stdout",
     "output_type": "stream",
     "text": [
      "2323 in binary = 1,235 in decimal\n"
     ]
    }
   ],
   "source": [
    "# Cell 3 \n",
    "\n",
    "# Octal to Decimal Conversion No Looping. \n",
    "\n",
    "# Input octal \n",
    "o = \"2323\"\n",
    "# Built-in integer representation. takes in string and base.\n",
    "d: int = int(o, 8)\n",
    "\n",
    "print(f\"{o} in octal = {d:,} in decimal\")\n"
   ]
  },
  {
   "cell_type": "code",
   "execution_count": 21,
   "id": "99b2e399-8c98-4a44-a6b2-a99451ce6db8",
   "metadata": {},
   "outputs": [
    {
     "name": "stdout",
     "output_type": "stream",
     "text": [
      "1,235 in decimal = 2323 in octal\n"
     ]
    }
   ],
   "source": [
    "# Cell 4\n",
    "\n",
    "# Decimal to Octal Conversion No Looping.\n",
    "\n",
    "# Input decimal \n",
    "d: int = 1_235\n",
    "# numpy built-in base representation conversion. Takes in decimal and base\n",
    "o: str = np.base_repr(d, base=8)\n",
    "\n",
    "print(f\"{d:,} in decimal = {o} in octal\")\n"
   ]
  },
  {
   "cell_type": "code",
   "execution_count": null,
   "id": "6b9b434f-a253-4dc5-af2f-67abbcb04d80",
   "metadata": {},
   "outputs": [],
   "source": []
  }
 ],
 "metadata": {
  "kernelspec": {
   "display_name": "Python 3 (ipykernel)",
   "language": "python",
   "name": "python3"
  },
  "language_info": {
   "codemirror_mode": {
    "name": "ipython",
    "version": 3
   },
   "file_extension": ".py",
   "mimetype": "text/x-python",
   "name": "python",
   "nbconvert_exporter": "python",
   "pygments_lexer": "ipython3",
   "version": "3.9.16"
  }
 },
 "nbformat": 4,
 "nbformat_minor": 5
}
